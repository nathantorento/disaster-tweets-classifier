{
 "cells": [
  {
   "cell_type": "code",
   "execution_count": 2,
   "metadata": {},
   "outputs": [],
   "source": [
    "from mordecai import Geoparser"
   ]
  },
  {
   "cell_type": "code",
   "execution_count": 3,
   "metadata": {},
   "outputs": [
    {
     "name": "stdout",
     "output_type": "stream",
     "text": [
      "Models path: /Users/emmastiefel/Documents/GitHub/disaster-tweets-classifier/sos-env/lib/python3.7/site-packages/mordecai/models/\n",
      "[{'text': 'Eiffel Tower', 'label': 'France', 'word': 'Eiffel Tower', 'spans': [{'start': 0, 'end': 12}], 'features': {'maj_vote': 'FRA', 'word_vec': 'FRA', 'first_back': 'FRA', 'most_alt': 'FRA', 'most_pop': 'FRA', 'ct_mention': '', 'ctm_count1': 0, 'ct_mention2': '', 'ctm_count2': 0, 'wv_confid': 18.32382583618164, 'class_mention': '', 'code_mention': ''}, 'country_predicted': 'FRA', 'country_conf': 0.96374094, 'all_countries': array(['FRA'], dtype='<U3'), 'all_confidence': array([0.96374094], dtype=float32), 'geo': {'admin1': 'Île-de-France', 'lat': '48.85832', 'lon': '2.29452', 'country_code3': 'FRA', 'geonameid': '6254976', 'place_name': 'Tour Eiffel', 'feature_class': 'S', 'feature_code': 'MNMT'}, 'place_confidence': 1.0}, {'text': 'Paris', 'label': 'France', 'word': 'Paris', 'spans': [{'start': 27, 'end': 32}], 'features': {'maj_vote': 'FRA', 'word_vec': 'FRA', 'first_back': 'ITA', 'most_alt': 'FRA', 'most_pop': 'FRA', 'ct_mention': '', 'ctm_count1': 0, 'ct_mention2': '', 'ctm_count2': 0, 'wv_confid': 39.25203323364258, 'class_mention': '', 'code_mention': ''}, 'country_predicted': 'FRA', 'country_conf': 0.957188, 'all_countries': array(['FRA', 'ITA'], dtype='<U3'), 'all_confidence': array([0.957188  , 0.01826525], dtype=float32), 'geo': {'admin1': 'Île-de-France', 'lat': '48.85339', 'lon': '2.34864', 'country_code3': 'FRA', 'geonameid': '2988506', 'place_name': 'Paris', 'feature_class': 'A', 'feature_code': 'ADM3'}, 'place_confidence': 1.0}]\n"
     ]
    }
   ],
   "source": [
    "geo = Geoparser(verbose=True)\n",
    "geo.geoparse(\"Eiffel Tower is located in Paris\")"
   ]
  },
  {
   "cell_type": "code",
   "execution_count": null,
   "metadata": {},
   "outputs": [],
   "source": []
  }
 ],
 "metadata": {
  "kernelspec": {
   "display_name": "sos-env",
   "language": "python",
   "name": "sos-env"
  },
  "language_info": {
   "codemirror_mode": {
    "name": "ipython",
    "version": 3
   },
   "file_extension": ".py",
   "mimetype": "text/x-python",
   "name": "python",
   "nbconvert_exporter": "python",
   "pygments_lexer": "ipython3",
   "version": "3.7.9"
  }
 },
 "nbformat": 4,
 "nbformat_minor": 4
}
