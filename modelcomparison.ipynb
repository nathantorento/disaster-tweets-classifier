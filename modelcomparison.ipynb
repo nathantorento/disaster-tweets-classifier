{
 "cells": [
  {
   "cell_type": "markdown",
   "metadata": {},
   "source": [
    "# Introduction\n",
    "\n",
    "### Overview\n",
    "This paper will be based on the Kaggle competition Real or Not? NLP with Disaster Tweets (https://www.kaggle.com/c/nlp-getting-started). It's an introductory challenge to serve as practice for Natural Language Processing with focus on Text Classification. The competition creators gathered 10875  tweets that are reporting an emergency or some man-made/natural disaster – the selection process is left unspecified. \n",
    "\n",
    "\n",
    "### Dataset\n",
    "There are three provided files:\n",
    "- train.csv - the training set\n",
    "- test.csv - the test set\n",
    "- sample_submission.csv - the framework for official competition submissions\n",
    "\n",
    "The training dataset contains these columns:\n",
    "- id: a unique numeric identifier for each tweet\n",
    "- text: the actual content in the tweet\n",
    "- keyword: keywords from the tweet manually selected by the competition creators (may be blank)\n",
    "- location: the location the tweet was sent from (may be blank)\n",
    "- target: values are hand classified by creators as either 0 for non-disaster or 1 for disaster\n",
    "\n",
    "The test set is similar to the training data set except for not having a target column.\n",
    "The sample_submission contains the id and a target column for all the tweets that competitors will have to populate with their proposed models.\n",
    "\n",
    "### Goal\n",
    "The challenge of the competition is to create a model that can most accurately predict the test set and achieve a high F1 Score (read more at https://scikit-learn.org/stable/modules/generated/sklearn.metrics.f1_score.html).\n",
    "\n",
    "For our team, however, we're hoping to use this challenge as our final academic opportunity to apply as many of the skills we've learned in our Practical Data Science Tutorial while exploring additional Data Science fields and methods we're interested in. \n",
    "\n",
    "Thus, we decided to create an NLP pipeline for this challenge, split it into four parts, and self-allocate as you will see in the Team Roles section below.\n",
    "\n",
    "Important Note: We all worked on different sections of a pipeline, and those sections naturally vary in magnitude of required effort. Thus, while we consolidated efforts to create output that fed or flowed into each other's section, we each individually explored into aspects of the data or task that were not necessary for the pipeline.\n",
    "\n",
    "\n",
    "### Team Roles\n",
    "- Wei-Ting Yap: data exploration and pre-processing\n",
    "- Emma Stiefel: data pre-processing and completion of data\n",
    "- Nathan Torento (me): model creation and comparison\n",
    "- Henry Biko: model evaluation"
   ]
  },
  {
   "cell_type": "markdown",
   "metadata": {},
   "source": [
    "# Data exploration and pre-processing\n",
    "\n",
    "To explore and pre-process the training dataset, Wei-Ting chose to use the open-source NLP library for Python called spaCy. It is a level up from the NLTK library in that it is object oriented rather than string processing, computationally faster, and provides more customizability.\n",
    "\n",
    "There are an infinite permutation of implementations to preprocess text. Wei-Ting chose to pre-process the tweets such that for every tweet, she would take these steps:\n",
    "- identify all # (hashtags)\n",
    "- identify all @ (Twitter account mentions in-tweet)\n",
    "- identify all URLs\n",
    "- lowercase\n",
    "- tokenize\n",
    "- lemmatize\n",
    "- remove stopwords\n",
    "- bag of words\n",
    "\n",
    "These are all standard NLP pre-processing steps, except Wei-Ting also considers the format and context of tweets by distinguishing the non-plain text that are likely to appear as well. Thus, she creates a Bag of Words for each row that counts the instances of text starting with #, text starting with @, URLs, and all lemmatize non-stop words.\n",
    "\n",
    "#### For good measure, I would also remove emojis by searching and deleting all instances of their unicodes with regex.\n",
    "\n",
    "Her final output, however, implements \"count vectorization\" - an extension on the Bag of Words (BoW) concept. \n",
    "\n",
    "### Count Vectorization\n",
    "After creating a bag of words for every tweet, every \"word\" (or string) that has ever appeared is now added as a separate column of the dataset. Every row then places the number of times the strings in its lemmatized, non-stopword, bag of words appear for each column. This is a lengthy process to run on nearly 6000 tweets as it results in >20000 columns and a >200 mb dataset, so Wei-Ting saved the pre-processed .csv for easy access.\n",
    "\n",
    "#### My only qualm with this manual count vectorization is that it scales the dataset dimensions and size exponentially, making it more computationally costly and timely to load and use the dataset. It took me nearly 10 minutes to load the training data each runtime. Thus, for the model section later, I slightly modify Wei-Ting's code."
   ]
  },
  {
   "cell_type": "markdown",
   "metadata": {},
   "source": [
    "# Data pre-processing and completion of data\n",
    "\n",
    "Emma decided to take on the challenge of completely filling in the \"location\" section, as well as further spell-checking the dataset. \n",
    "\n",
    "### Location\n",
    "Emma used the Mordecai library, which uses spaCy, Geonames, and the TensorFlow interact keras, to \"Geoparse\" the tweets. The library is often used to parse through text, identify information about geographical locations, then return these locations' coordinates.\n",
    "\n",
    "#### Although not necessary for the tweet disaster classification pipeline, in real life, location is crucial information for emergency response and disaster response planning."
   ]
  },
  {
   "cell_type": "markdown",
   "metadata": {},
   "source": [
    "# Model creation and comparison\n",
    "\n",
    "Nathan (me, writing in 3rd Person)\n",
    "\n",
    "From all the possible classification models, Nathan chose to use the ones he had previous experience with:\n",
    "- Logistic Regression\n",
    "- Decision Tree\n",
    "- Support Vector Machine\n",
    "- Multinomial Naive Bayes Model\n",
    "\n",
    "For each one, he implemented a simple implementation without any parameter specification.\n",
    "\n",
    "He also implemented a deep neural network, for which he justifies his decisions for every layer.\n",
    "\n",
    "For every model, he then compared the train accuracy, test accuracy, and F1 score."
   ]
  },
  {
   "cell_type": "code",
   "execution_count": 96,
   "metadata": {},
   "outputs": [],
   "source": [
    "#---[Adjusted] Pre-processing code from Wei-Ting---\n",
    "import pandas as pd\n",
    "import numpy as np\n",
    "\n",
    "train = pd.read_csv('data/train.csv')\n",
    "\n",
    "# Creating a new column in the train data containing the preprocessed text later\n",
    "train.insert(loc=4, column=\"cleaned_text\", value=\"\")"
   ]
  },
  {
   "cell_type": "code",
   "execution_count": 97,
   "metadata": {},
   "outputs": [
    {
     "data": {
      "text/html": [
       "<div>\n",
       "<style scoped>\n",
       "    .dataframe tbody tr th:only-of-type {\n",
       "        vertical-align: middle;\n",
       "    }\n",
       "\n",
       "    .dataframe tbody tr th {\n",
       "        vertical-align: top;\n",
       "    }\n",
       "\n",
       "    .dataframe thead th {\n",
       "        text-align: right;\n",
       "    }\n",
       "</style>\n",
       "<table border=\"1\" class=\"dataframe\">\n",
       "  <thead>\n",
       "    <tr style=\"text-align: right;\">\n",
       "      <th></th>\n",
       "      <th>id</th>\n",
       "      <th>keyword</th>\n",
       "      <th>location</th>\n",
       "      <th>text</th>\n",
       "      <th>cleaned_text</th>\n",
       "      <th>target</th>\n",
       "    </tr>\n",
       "  </thead>\n",
       "  <tbody>\n",
       "    <tr>\n",
       "      <th>0</th>\n",
       "      <td>1</td>\n",
       "      <td>NaN</td>\n",
       "      <td>NaN</td>\n",
       "      <td>Our Deeds are the Reason of this #earthquake M...</td>\n",
       "      <td></td>\n",
       "      <td>1</td>\n",
       "    </tr>\n",
       "    <tr>\n",
       "      <th>1</th>\n",
       "      <td>4</td>\n",
       "      <td>NaN</td>\n",
       "      <td>NaN</td>\n",
       "      <td>Forest fire near La Ronge Sask. Canada</td>\n",
       "      <td></td>\n",
       "      <td>1</td>\n",
       "    </tr>\n",
       "    <tr>\n",
       "      <th>2</th>\n",
       "      <td>5</td>\n",
       "      <td>NaN</td>\n",
       "      <td>NaN</td>\n",
       "      <td>All residents asked to 'shelter in place' are ...</td>\n",
       "      <td></td>\n",
       "      <td>1</td>\n",
       "    </tr>\n",
       "    <tr>\n",
       "      <th>3</th>\n",
       "      <td>6</td>\n",
       "      <td>NaN</td>\n",
       "      <td>NaN</td>\n",
       "      <td>13,000 people receive #wildfires evacuation or...</td>\n",
       "      <td></td>\n",
       "      <td>1</td>\n",
       "    </tr>\n",
       "    <tr>\n",
       "      <th>4</th>\n",
       "      <td>7</td>\n",
       "      <td>NaN</td>\n",
       "      <td>NaN</td>\n",
       "      <td>Just got sent this photo from Ruby #Alaska as ...</td>\n",
       "      <td></td>\n",
       "      <td>1</td>\n",
       "    </tr>\n",
       "  </tbody>\n",
       "</table>\n",
       "</div>"
      ],
      "text/plain": [
       "   id keyword location                                               text  \\\n",
       "0   1     NaN      NaN  Our Deeds are the Reason of this #earthquake M...   \n",
       "1   4     NaN      NaN             Forest fire near La Ronge Sask. Canada   \n",
       "2   5     NaN      NaN  All residents asked to 'shelter in place' are ...   \n",
       "3   6     NaN      NaN  13,000 people receive #wildfires evacuation or...   \n",
       "4   7     NaN      NaN  Just got sent this photo from Ruby #Alaska as ...   \n",
       "\n",
       "  cleaned_text  target  \n",
       "0                    1  \n",
       "1                    1  \n",
       "2                    1  \n",
       "3                    1  \n",
       "4                    1  "
      ]
     },
     "execution_count": 97,
     "metadata": {},
     "output_type": "execute_result"
    }
   ],
   "source": [
    "train.head()"
   ]
  },
  {
   "cell_type": "code",
   "execution_count": 157,
   "metadata": {},
   "outputs": [],
   "source": [
    "import re\n",
    "import spacy \n",
    "import en_core_web_md\n",
    "\n",
    "nlp = en_core_web_md.load()\n",
    "stopwords = spacy.lang.en.stop_words.STOP_WORDS\n",
    "stopwords.add(\"-PRON-\")"
   ]
  },
  {
   "cell_type": "code",
   "execution_count": 195,
   "metadata": {},
   "outputs": [],
   "source": [
    "#features = set({'#','@','URL'}) # Using set feature to contain all words (lemmas) seen\n",
    "\n",
    "# Now that we've preprocessed a single tweet, we can create a pre-process function for each tweet\n",
    "def preprocess(s):\n",
    "    \"\"\"\n",
    "    Given string s, spaCy model nlp, and set features (lemmas encountered),\n",
    "    pre-process s and return updated features and bag-of-words representation dict freq\n",
    "    - changes s to lower-case\n",
    "    - remove punctuationo\n",
    "    - tokenize s using nlp to create a doc\n",
    "    - update features with lemmas encountered in s\n",
    "    \"\"\"\n",
    "    # Split\n",
    "    s = s.split()\n",
    "    \n",
    "    # Lowercase\n",
    "    s = [word.lower() for word in s]\n",
    "    \n",
    "    # Remove non-letters\n",
    "    s = [re.sub(r'[^a-zA-Z]', '', word) for word in s]\n",
    "    \n",
    "    # Remove non-letters\n",
    "    s = [re.sub(r'[^\\w\\s]', '', word) for word in s]\n",
    "    \n",
    "    # spaCy conversion for lemmatization\n",
    "    s = \" \".join(s)\n",
    "    s = nlp(s)\n",
    "    \n",
    "    # Lemmatization\n",
    "    lemmas = [token.lemma_ for token in s]\n",
    "        \n",
    "    # Remove stopwords including -PRON\n",
    "    # Note: spaCy lemmatizes all pronouns as -PRON-\n",
    "    cleaned_lemmas = [word for word in lemmas if not word in stopwords]\n",
    "    \n",
    "    cleaned_lemmas = \" \".join(cleaned_lemmas)\n",
    "    \n",
    "    return cleaned_lemmas"
   ]
  },
  {
   "cell_type": "code",
   "execution_count": 197,
   "metadata": {},
   "outputs": [
    {
     "data": {
      "text/html": [
       "<div>\n",
       "<style scoped>\n",
       "    .dataframe tbody tr th:only-of-type {\n",
       "        vertical-align: middle;\n",
       "    }\n",
       "\n",
       "    .dataframe tbody tr th {\n",
       "        vertical-align: top;\n",
       "    }\n",
       "\n",
       "    .dataframe thead th {\n",
       "        text-align: right;\n",
       "    }\n",
       "</style>\n",
       "<table border=\"1\" class=\"dataframe\">\n",
       "  <thead>\n",
       "    <tr style=\"text-align: right;\">\n",
       "      <th></th>\n",
       "      <th>id</th>\n",
       "      <th>keyword</th>\n",
       "      <th>location</th>\n",
       "      <th>text</th>\n",
       "      <th>cleaned_text</th>\n",
       "      <th>target</th>\n",
       "    </tr>\n",
       "  </thead>\n",
       "  <tbody>\n",
       "    <tr>\n",
       "      <th>0</th>\n",
       "      <td>1</td>\n",
       "      <td>NaN</td>\n",
       "      <td>NaN</td>\n",
       "      <td>Our Deeds are the Reason of this #earthquake M...</td>\n",
       "      <td>deed reason earthquake allah forgive</td>\n",
       "      <td>1</td>\n",
       "    </tr>\n",
       "    <tr>\n",
       "      <th>1</th>\n",
       "      <td>4</td>\n",
       "      <td>NaN</td>\n",
       "      <td>NaN</td>\n",
       "      <td>Forest fire near La Ronge Sask. Canada</td>\n",
       "      <td>forest fire near la ronge sask canada</td>\n",
       "      <td>1</td>\n",
       "    </tr>\n",
       "    <tr>\n",
       "      <th>2</th>\n",
       "      <td>5</td>\n",
       "      <td>NaN</td>\n",
       "      <td>NaN</td>\n",
       "      <td>All residents asked to 'shelter in place' are ...</td>\n",
       "      <td>resident ask shelter place notify officer evac...</td>\n",
       "      <td>1</td>\n",
       "    </tr>\n",
       "    <tr>\n",
       "      <th>3</th>\n",
       "      <td>6</td>\n",
       "      <td>NaN</td>\n",
       "      <td>NaN</td>\n",
       "      <td>13,000 people receive #wildfires evacuation or...</td>\n",
       "      <td>people receive wildfire evacuation order cal...</td>\n",
       "      <td>1</td>\n",
       "    </tr>\n",
       "    <tr>\n",
       "      <th>4</th>\n",
       "      <td>7</td>\n",
       "      <td>NaN</td>\n",
       "      <td>NaN</td>\n",
       "      <td>Just got sent this photo from Ruby #Alaska as ...</td>\n",
       "      <td>send photo ruby alaska smoke wildfire pour school</td>\n",
       "      <td>1</td>\n",
       "    </tr>\n",
       "  </tbody>\n",
       "</table>\n",
       "</div>"
      ],
      "text/plain": [
       "   id keyword location                                               text  \\\n",
       "0   1     NaN      NaN  Our Deeds are the Reason of this #earthquake M...   \n",
       "1   4     NaN      NaN             Forest fire near La Ronge Sask. Canada   \n",
       "2   5     NaN      NaN  All residents asked to 'shelter in place' are ...   \n",
       "3   6     NaN      NaN  13,000 people receive #wildfires evacuation or...   \n",
       "4   7     NaN      NaN  Just got sent this photo from Ruby #Alaska as ...   \n",
       "\n",
       "                                        cleaned_text  target  \n",
       "0               deed reason earthquake allah forgive       1  \n",
       "1              forest fire near la ronge sask canada       1  \n",
       "2  resident ask shelter place notify officer evac...       1  \n",
       "3    people receive wildfire evacuation order cal...       1  \n",
       "4  send photo ruby alaska smoke wildfire pour school       1  "
      ]
     },
     "execution_count": 197,
     "metadata": {},
     "output_type": "execute_result"
    }
   ],
   "source": [
    "# Fill in cleaned_text column\n",
    "\n",
    "for i in range(len(train)):\n",
    "    train.loc[i, \"cleaned_text\"] = preprocess(train.loc[i, \"text\"])\n",
    "\n",
    "train.head()"
   ]
  },
  {
   "cell_type": "code",
   "execution_count": 308,
   "metadata": {
    "scrolled": true
   },
   "outputs": [
    {
     "data": {
      "text/html": [
       "<div>\n",
       "<style scoped>\n",
       "    .dataframe tbody tr th:only-of-type {\n",
       "        vertical-align: middle;\n",
       "    }\n",
       "\n",
       "    .dataframe tbody tr th {\n",
       "        vertical-align: top;\n",
       "    }\n",
       "\n",
       "    .dataframe thead th {\n",
       "        text-align: right;\n",
       "    }\n",
       "</style>\n",
       "<table border=\"1\" class=\"dataframe\">\n",
       "  <thead>\n",
       "    <tr style=\"text-align: right;\">\n",
       "      <th></th>\n",
       "      <th>frequency</th>\n",
       "    </tr>\n",
       "  </thead>\n",
       "  <tbody>\n",
       "    <tr>\n",
       "      <th>like</th>\n",
       "      <td>391</td>\n",
       "    </tr>\n",
       "    <tr>\n",
       "      <th>fire</th>\n",
       "      <td>359</td>\n",
       "    </tr>\n",
       "    <tr>\n",
       "      <th>amp</th>\n",
       "      <td>300</td>\n",
       "    </tr>\n",
       "    <tr>\n",
       "      <th>s</th>\n",
       "      <td>289</td>\n",
       "    </tr>\n",
       "    <tr>\n",
       "      <th>new</th>\n",
       "      <td>232</td>\n",
       "    </tr>\n",
       "    <tr>\n",
       "      <th>news</th>\n",
       "      <td>198</td>\n",
       "    </tr>\n",
       "    <tr>\n",
       "      <th>people</th>\n",
       "      <td>198</td>\n",
       "    </tr>\n",
       "    <tr>\n",
       "      <th>burn</th>\n",
       "      <td>174</td>\n",
       "    </tr>\n",
       "    <tr>\n",
       "      <th>video</th>\n",
       "      <td>174</td>\n",
       "    </tr>\n",
       "    <tr>\n",
       "      <th>kill</th>\n",
       "      <td>174</td>\n",
       "    </tr>\n",
       "  </tbody>\n",
       "</table>\n",
       "</div>"
      ],
      "text/plain": [
       "        frequency\n",
       "like          391\n",
       "fire          359\n",
       "amp           300\n",
       "s             289\n",
       "new           232\n",
       "news          198\n",
       "people        198\n",
       "burn          174\n",
       "video         174\n",
       "kill          174"
      ]
     },
     "execution_count": 308,
     "metadata": {},
     "output_type": "execute_result"
    }
   ],
   "source": [
    "# Store all unique words in our corpus\n",
    "\n",
    "unique_words = {}\n",
    "\n",
    "for text in train[\"cleaned_text\"]:\n",
    "    for word in text.split():\n",
    "        if (word not in unique_words.keys()):\n",
    "            unique_words[word] = 1\n",
    "        else:\n",
    "            unique_words[word] += 1\n",
    "            \n",
    "unique_words = pd.DataFrame.from_dict(unique_words, \n",
    "                                      orient=\"index\", \n",
    "                                      columns=[\"frequency\"])\n",
    "\n",
    "unique_words.sort_values(by=[\"frequency\"], inplace=True, ascending=False)\n",
    "\n",
    "# for later use\n",
    "total_unique_words = unique_words\n",
    "\n",
    "unique_words.head(n=10)"
   ]
  },
  {
   "cell_type": "code",
   "execution_count": 309,
   "metadata": {},
   "outputs": [
    {
     "data": {
      "image/png": "[encoded data removed]",
      "text/plain": [
       "<Figure size 432x288 with 1 Axes>"
      ]
     },
     "metadata": {
      "needs_background": "light"
     },
     "output_type": "display_data"
    }
   ],
   "source": [
    "import matplotlib.pyplot as plt\n",
    "# Let's see a histogram of the word frequencies\n",
    "_ = plt.hist(unique_words['frequency'])"
   ]
  },
  {
   "cell_type": "code",
   "execution_count": 310,
   "metadata": {},
   "outputs": [
    {
     "data": {
      "image/png": "[encoded data removed]",
      "text/plain": [
       "<Figure size 432x288 with 1 Axes>"
      ]
     },
     "metadata": {
      "needs_background": "light"
     },
     "output_type": "display_data"
    }
   ],
   "source": [
    "# Let's zoom in on the least frequently appearing words\n",
    "_ = plt.hist(unique_words['frequency'], range = (1, 50))"
   ]
  },
  {
   "cell_type": "code",
   "execution_count": 311,
   "metadata": {},
   "outputs": [
    {
     "data": {
      "text/html": [
       "<div>\n",
       "<style scoped>\n",
       "    .dataframe tbody tr th:only-of-type {\n",
       "        vertical-align: middle;\n",
       "    }\n",
       "\n",
       "    .dataframe tbody tr th {\n",
       "        vertical-align: top;\n",
       "    }\n",
       "\n",
       "    .dataframe thead th {\n",
       "        text-align: right;\n",
       "    }\n",
       "</style>\n",
       "<table border=\"1\" class=\"dataframe\">\n",
       "  <thead>\n",
       "    <tr style=\"text-align: right;\">\n",
       "      <th></th>\n",
       "      <th>frequency</th>\n",
       "    </tr>\n",
       "  </thead>\n",
       "  <tbody>\n",
       "    <tr>\n",
       "      <th>like</th>\n",
       "      <td>391</td>\n",
       "    </tr>\n",
       "    <tr>\n",
       "      <th>fire</th>\n",
       "      <td>359</td>\n",
       "    </tr>\n",
       "    <tr>\n",
       "      <th>amp</th>\n",
       "      <td>300</td>\n",
       "    </tr>\n",
       "    <tr>\n",
       "      <th>s</th>\n",
       "      <td>289</td>\n",
       "    </tr>\n",
       "    <tr>\n",
       "      <th>new</th>\n",
       "      <td>232</td>\n",
       "    </tr>\n",
       "    <tr>\n",
       "      <th>...</th>\n",
       "      <td>...</td>\n",
       "    </tr>\n",
       "    <tr>\n",
       "      <th>currently</th>\n",
       "      <td>10</td>\n",
       "    </tr>\n",
       "    <tr>\n",
       "      <th>wwii</th>\n",
       "      <td>10</td>\n",
       "    </tr>\n",
       "    <tr>\n",
       "      <th>bet</th>\n",
       "      <td>10</td>\n",
       "    </tr>\n",
       "    <tr>\n",
       "      <th>sunday</th>\n",
       "      <td>10</td>\n",
       "    </tr>\n",
       "    <tr>\n",
       "      <th>usually</th>\n",
       "      <td>10</td>\n",
       "    </tr>\n",
       "  </tbody>\n",
       "</table>\n",
       "<p>1223 rows × 1 columns</p>\n",
       "</div>"
      ],
      "text/plain": [
       "           frequency\n",
       "like             391\n",
       "fire             359\n",
       "amp              300\n",
       "s                289\n",
       "new              232\n",
       "...              ...\n",
       "currently         10\n",
       "wwii              10\n",
       "bet               10\n",
       "sunday            10\n",
       "usually           10\n",
       "\n",
       "[1223 rows x 1 columns]"
      ]
     },
     "execution_count": 311,
     "metadata": {},
     "output_type": "execute_result"
    }
   ],
   "source": [
    "# As you can see, there are many words that only appear once \n",
    "# or not often enough to improve the model so we will remove them\n",
    "unique_words = unique_words[unique_words['frequency'] >= 10]\n",
    "unique_words"
   ]
  },
  {
   "cell_type": "code",
   "execution_count": 253,
   "metadata": {},
   "outputs": [
    {
     "data": {
      "text/plain": [
       "array([[0, 0, 0, ..., 0, 0, 0],\n",
       "       [0, 0, 0, ..., 0, 0, 0],\n",
       "       [0, 0, 0, ..., 0, 0, 0],\n",
       "       ...,\n",
       "       [0, 0, 0, ..., 0, 0, 0],\n",
       "       [0, 0, 0, ..., 0, 0, 0],\n",
       "       [0, 0, 1, ..., 0, 0, 0]])"
      ]
     },
     "execution_count": 253,
     "metadata": {},
     "output_type": "execute_result"
    }
   ],
   "source": [
    "# Used the sklearn CountVectorizer function instead for computational efficiency\n",
    "from sklearn.feature_extraction.text import CountVectorizer\n",
    "\n",
    "bag_of_words = CountVectorizer(max_features = unique_words.shape[0]).fit_transform(train[\"cleaned_text\"].values).toarray()\n",
    "bag_of_words"
   ]
  },
  {
   "cell_type": "code",
   "execution_count": 262,
   "metadata": {},
   "outputs": [
    {
     "name": "stdout",
     "output_type": "stream",
     "text": [
      "\n",
      "X_train: (6090, 1223)\n",
      "y_train: (6090,)\n",
      "\n",
      "X_test: (1523, 1223)\n",
      "y_test: (1523,)\n",
      "\n"
     ]
    }
   ],
   "source": [
    "# Train Test Split\n",
    "from sklearn.model_selection import train_test_split\n",
    "\n",
    "X = bag_of_words\n",
    "y = train[\"target\"]\n",
    "\n",
    "X_train, X_test, y_train, y_test = train_test_split(X, y, \n",
    "                                                    test_size=0.2, \n",
    "                                                    random_state=123)\n",
    "\n",
    "print(f\"\"\"\n",
    "X_train: {X_train.shape}\n",
    "y_train: {y_train.shape}\n",
    "\n",
    "X_test: {X_test.shape}\n",
    "y_test: {y_test.shape}\n",
    "\"\"\")"
   ]
  },
  {
   "cell_type": "markdown",
   "metadata": {},
   "source": [
    "### Models\n",
    "Now it's time to create the models. I will optimize for parameters wherever possible, but will minimize them as much as possible and set random state for replicability."
   ]
  },
  {
   "cell_type": "code",
   "execution_count": 329,
   "metadata": {},
   "outputs": [],
   "source": [
    "# Logistic Regression Model - lr\n",
    "from sklearn.linear_model import LogisticRegression\n",
    "\n",
    "lr = LogisticRegression().fit(X_train,y_train)"
   ]
  },
  {
   "cell_type": "code",
   "execution_count": 294,
   "metadata": {},
   "outputs": [],
   "source": [
    "# Decision Tree Model - dt\n",
    "from sklearn.tree import DecisionTreeClassifier\n",
    "\n",
    "dt = DecisionTreeClassifier().fit(X_train,y_train)"
   ]
  },
  {
   "cell_type": "code",
   "execution_count": 295,
   "metadata": {},
   "outputs": [],
   "source": [
    "# Support Vector Machine Model - svc\n",
    "from sklearn.svm import SVC\n",
    "\n",
    "svc = SVC().fit(X_train,y_train)"
   ]
  },
  {
   "cell_type": "code",
   "execution_count": 296,
   "metadata": {},
   "outputs": [],
   "source": [
    "# Multinomial Naive Bayes Model - mnb\n",
    "from sklearn.naive_bayes import MultinomialNB\n",
    "\n",
    "mnb = MultinomialNB().fit(X_train,y_train)"
   ]
  },
  {
   "cell_type": "code",
   "execution_count": 314,
   "metadata": {},
   "outputs": [
    {
     "name": "stdout",
     "output_type": "stream",
     "text": [
      "19171\n"
     ]
    }
   ],
   "source": [
    "print(len(total_unique_words))"
   ]
  },
  {
   "cell_type": "code",
   "execution_count": 321,
   "metadata": {},
   "outputs": [
    {
     "name": "stdout",
     "output_type": "stream",
     "text": [
      "The most number of pre-processed words to appear in a tweet is 137\n"
     ]
    },
    {
     "data": {
      "image/png": "[encoded data removed]",
      "text/plain": [
       "<Figure size 432x288 with 1 Axes>"
      ]
     },
     "metadata": {
      "needs_background": "light"
     },
     "output_type": "display_data"
    }
   ],
   "source": [
    "cleaned_text_count = [len(text) for text in train[\"cleaned_text\"]]\n",
    "_ = plt.hist(cleaned_text_count)\n",
    "print(f\"The most number of pre-processed words to appear in a tweet is {max(cleaned_text_count)}.\")"
   ]
  },
  {
   "cell_type": "markdown",
   "metadata": {},
   "source": [
    "A few notes about the final CountVectorizer-processed format of our input data:\n",
    "- we are representing every tweet as a vector of 0 or 1 by whether the word appears, and each \"column\" is a unique word\n",
    "- we removed the least frequent words because they won't help in identifying patterns and only increase the complexity of the computation\n",
    "- X_train: (6090, 1223) and X_test: (1523, 1223), meaning I've decided that there are 1223 important unique words in our corpus that help indicate whether a tweet is a disaster or not\n",
    "\n",
    "In real life, CNNs are often used for the task of text classification so long as the corpus is converted into some standardized vector of numbers. Without knowing this, I chose to use a convolutional neural networks because they are a popular go-to method for prediction problems, and they work well with image data-like input. Given that we applied the count vectorizer function on our data to produce a matrix of 0-1 values much like an image, a CNN is appropriate here. \n",
    "\n",
    "https://realpython.com/python-keras-text-classification/#convolutional-neural-networks-cnn\n",
    "This is a great resource to further understand step-by-step how and why CNNs are used for the task of text classification.\n",
    "\n",
    "These are the justifications for every layer I add in my convolutional neural network:\n",
    "\n",
    "> Embedding layer <br> <br>\n",
    "Rationale: Maps integer representation of words (in our case, Count Vectorized form) into vector representationsn whose distinct values can be further analyzed to find patterns; often this is set to 32, 50, 100, or more; I choose 100 in this case <br> <br>\n",
    "Parameters:\n",
    ">- input_dim = the max number of distinct words or values in each input vector\n",
    ">- output_dim = the amount of vectors to process\n",
    ">- input_length = the length of each row (or the overall amount of words in each vector)\n",
    "<br> <br>\n",
    "> Read more: https://stats.stackexchange.com/questions/270546/how-does-keras-embedding-layer-work\n",
    "\n",
    "> Convolutional layer <br> <br>\n",
    "Rationale: Transform the inputs from the previous layer to detect specific features from the appearance of unique word combinations against each other that indicate a \"disaster\" or not <br> <br>\n",
    "Parameters:\n",
    ">- filters = the number of output filters or convolutions; defaults include 32 or 100; I choose 100 in this case\n",
    ">- kernel_size = length of each convolution; I chose a default 5\n",
    ">- activation = \"relu\" for a computationally cheaper activation\n",
    "<br> <br>\n",
    "> Read more: https://towardsdatascience.com/deep-learning-4-embedding-layers-f9a02d55ac12\n",
    "\n",
    "> A flattening layer <br> <br>\n",
    "Rationale: to prepare the output from the convolutional layer for the Dense layer\n",
    "\n",
    "> Two dense layers <br> <br>\n",
    "Rationale: the first layer deepens the CNN to further identify similar patterns in the previous layers; the second is the final binary classifying node <br> <br>\n",
    "Parameters: \n",
    ">- activation = \"relu\" computationally cheaper for the larger layer, and \"sigmoid\" for the final layer to outputs a number between 0 to 1 as required for the classification task"
   ]
  },
  {
   "cell_type": "code",
   "execution_count": 326,
   "metadata": {},
   "outputs": [
    {
     "name": "stdout",
     "output_type": "stream",
     "text": [
      "Epoch 1/10\n",
      "191/191 [==============================] - 67s 349ms/step - loss: 0.5676 - accuracy: 0.7105\n",
      "Epoch 2/10\n",
      "191/191 [==============================] - 68s 354ms/step - loss: 0.4065 - accuracy: 0.8166\n",
      "Epoch 3/10\n",
      "191/191 [==============================] - 63s 329ms/step - loss: 0.3399 - accuracy: 0.8539\n",
      "Epoch 4/10\n",
      "191/191 [==============================] - 67s 352ms/step - loss: 0.2815 - accuracy: 0.8791\n",
      "Epoch 5/10\n",
      "191/191 [==============================] - 63s 329ms/step - loss: 0.2234 - accuracy: 0.9079\n",
      "Epoch 6/10\n",
      "191/191 [==============================] - 64s 333ms/step - loss: 0.1705 - accuracy: 0.9366\n",
      "Epoch 7/10\n",
      "191/191 [==============================] - 58s 304ms/step - loss: 0.1352 - accuracy: 0.9491\n",
      "Epoch 8/10\n",
      "191/191 [==============================] - 60s 316ms/step - loss: 0.1140 - accuracy: 0.9581\n",
      "Epoch 9/10\n",
      "191/191 [==============================] - 58s 306ms/step - loss: 0.0985 - accuracy: 0.9619\n",
      "Epoch 10/10\n",
      "191/191 [==============================] - 62s 324ms/step - loss: 0.0947 - accuracy: 0.9626\n"
     ]
    },
    {
     "ename": "NameError",
     "evalue": "name 'test_x' is not defined",
     "output_type": "error",
     "traceback": [
      "\u001b[0;31m---------------------------------------------------------------------------\u001b[0m",
      "\u001b[0;31mNameError\u001b[0m                                 Traceback (most recent call last)",
      "\u001b[0;32m<ipython-input-326-037568c0d1da>\u001b[0m in \u001b[0;36m<module>\u001b[0;34m\u001b[0m\n\u001b[1;32m     30\u001b[0m           verbose=1)\n\u001b[1;32m     31\u001b[0m \u001b[0;34m\u001b[0m\u001b[0m\n\u001b[0;32m---> 32\u001b[0;31m \u001b[0mdnn\u001b[0m\u001b[0;34m.\u001b[0m\u001b[0mpredict\u001b[0m\u001b[0;34m(\u001b[0m\u001b[0mtest_x\u001b[0m\u001b[0;34m)\u001b[0m\u001b[0;34m\u001b[0m\u001b[0;34m\u001b[0m\u001b[0m\n\u001b[0m",
      "\u001b[0;31mNameError\u001b[0m: name 'test_x' is not defined"
     ]
    }
   ],
   "source": [
    "# Convolutional Neural Network Model - dnn\n",
    "from keras.datasets import imdb\n",
    "from keras.models import Sequential\n",
    "from keras.layers import Dense\n",
    "from keras.layers import Flatten\n",
    "from keras.layers.convolutional import Conv1D\n",
    "from keras.layers.convolutional import MaxPooling1D\n",
    "from keras.layers.embeddings import Embedding\n",
    "from keras.preprocessing import sequence\n",
    "\n",
    "cnn = Sequential()\n",
    "\n",
    "\n",
    "cnn.add(Embedding(input_dim=137, \n",
    "                    output_dim=100, \n",
    "                    input_length=1223))\n",
    "cnn.add(Conv1D(filters=100, \n",
    "                 kernel_size=5, \n",
    "                 activation='relu'))\n",
    "cnn.add(Flatten())\n",
    "cnn.add(Dense(100, activation='relu'))\n",
    "cnn.add(Dense(1, activation='sigmoid'))\n",
    "\n",
    "cnn.compile(optimizer='adam', \n",
    "              loss=\"binary_crossentropy\",\n",
    "              metrics=['accuracy'])\n",
    "\n",
    "cnn.fit(X_train, y_train, \n",
    "          epochs=10, \n",
    "          verbose=1)"
   ]
  },
  {
   "cell_type": "markdown",
   "metadata": {},
   "source": [
    "# Simple Model Evaluation\n",
    "This is a section left for Henry, but simply based on the provided metric, these are the performances of all the models."
   ]
  },
  {
   "cell_type": "code",
   "execution_count": null,
   "metadata": {},
   "outputs": [],
   "source": [
    "# List of models for future reference\n",
    "model_list = [('Logistic Regression', lr),\n",
    "              ('Decision Tree', dt),\n",
    "              ('Support Vector Machine', svc),\n",
    "              ('Multinomial Naive Bayes Model', mnb),\n",
    "              ('Convolutional Neural Network', cnn)]"
   ]
  },
  {
   "cell_type": "code",
   "execution_count": 345,
   "metadata": {},
   "outputs": [
    {
     "name": "stdout",
     "output_type": "stream",
     "text": [
      "\n",
      "    Logistic Regression\n",
      "    Train Score: 0.8566502463054187\n",
      "    Test Score: 0.7977675640183848\n",
      "    F1 Score: 0.7416107382550335\n",
      "    \n",
      "\n",
      "    Decision Tree\n",
      "    Train Score: 0.9745484400656814\n",
      "    Test Score: 0.7150361129349967\n",
      "    F1 Score: 0.6488673139158576\n",
      "    \n",
      "\n",
      "    Support Vector Machine\n",
      "    Train Score: 0.9082101806239737\n",
      "    Test Score: 0.7964543663821405\n",
      "    F1 Score: 0.7318339100346021\n",
      "    \n",
      "\n",
      "    Multinomial Naive Bayes Model\n",
      "    Train Score: 0.8154351395730706\n",
      "    Test Score: 0.7925147734734077\n",
      "    F1 Score: 0.7371048252911814\n",
      "    \n"
     ]
    }
   ],
   "source": [
    "from sklearn.metrics import f1_score\n",
    "\n",
    "train_scores = []\n",
    "test_scores = []\n",
    "f1_scores = []\n",
    "for model in model_list[:4]:\n",
    "    train_score = model[1].score(X_train, y_train)\n",
    "    train_scores.append(train_score)\n",
    "\n",
    "    test_score = model[1].score(X_test, y_test)\n",
    "    test_scores.append(test_score)\n",
    "    \n",
    "    y_pred = model[1].predict(X_test)\n",
    "    _f1_score = f1_score(y_test, y_pred)\n",
    "    f1_scores.append(_f1_score)\n",
    "    \n",
    "    print(f\"\"\"\n",
    "    {model[0]}\n",
    "    Train Score: {train_score}\n",
    "    Test Score: {test_score}\n",
    "    F1 Score: {_f1_score}\n",
    "    \"\"\")"
   ]
  },
  {
   "cell_type": "code",
   "execution_count": null,
   "metadata": {},
   "outputs": [],
   "source": [
    "# CNN (different library so must specify/compute values differently)"
   ]
  },
  {
   "cell_type": "code",
   "execution_count": 346,
   "metadata": {},
   "outputs": [
    {
     "name": "stdout",
     "output_type": "stream",
     "text": [
      "48/48 [==============================] - 4s 89ms/step - loss: 1.0058 - accuracy: 0.7656\n"
     ]
    }
   ],
   "source": [
    "train_score = 0.9626\n",
    "test_score = cnn.evaluate(X_test, y_test)[1]"
   ]
  },
  {
   "cell_type": "code",
   "execution_count": 378,
   "metadata": {},
   "outputs": [],
   "source": [
    "y_pred = cnn.predict_classes(X_test)\n",
    "y_pred = y_pred.flatten()"
   ]
  },
  {
   "cell_type": "code",
   "execution_count": 379,
   "metadata": {},
   "outputs": [],
   "source": [
    "_f1_score = f1_score(y_test, y_pred)"
   ]
  },
  {
   "cell_type": "code",
   "execution_count": 384,
   "metadata": {},
   "outputs": [],
   "source": [
    "# Append values to corresponding lists\n",
    "train_scores.append(train_score)\n",
    "test_scores.append(test_score)\n",
    "f1_scores.append(_f1_score)"
   ]
  },
  {
   "cell_type": "code",
   "execution_count": 396,
   "metadata": {},
   "outputs": [
    {
     "name": "stdout",
     "output_type": "stream",
     "text": [
      "\n",
      "    Convolutional Neural Network\n",
      "    Train Score: 0.9626\n",
      "    Test Score: 0.7655942440032959\n",
      "    F1 Score: 0.7056883759274527\n",
      "    \n"
     ]
    }
   ],
   "source": [
    "print(f\"\"\"\n",
    "    {model_list[4][0]}\n",
    "    Train Score: {train_score}\n",
    "    Test Score: {test_score}\n",
    "    F1 Score: {_f1_score}\n",
    "    \"\"\")"
   ]
  },
  {
   "cell_type": "markdown",
   "metadata": {},
   "source": [
    "# Final Model Scores"
   ]
  },
  {
   "cell_type": "code",
   "execution_count": 401,
   "metadata": {},
   "outputs": [
    {
     "data": {
      "text/html": [
       "<div>\n",
       "<style scoped>\n",
       "    .dataframe tbody tr th:only-of-type {\n",
       "        vertical-align: middle;\n",
       "    }\n",
       "\n",
       "    .dataframe tbody tr th {\n",
       "        vertical-align: top;\n",
       "    }\n",
       "\n",
       "    .dataframe thead th {\n",
       "        text-align: right;\n",
       "    }\n",
       "</style>\n",
       "<table border=\"1\" class=\"dataframe\">\n",
       "  <thead>\n",
       "    <tr style=\"text-align: right;\">\n",
       "      <th></th>\n",
       "      <th>Model</th>\n",
       "      <th>Train Score</th>\n",
       "      <th>Test Score</th>\n",
       "      <th>F1 Score</th>\n",
       "    </tr>\n",
       "  </thead>\n",
       "  <tbody>\n",
       "    <tr>\n",
       "      <th>0</th>\n",
       "      <td>Logistic Regression</td>\n",
       "      <td>0.857</td>\n",
       "      <td>0.798</td>\n",
       "      <td>0.742</td>\n",
       "    </tr>\n",
       "    <tr>\n",
       "      <th>1</th>\n",
       "      <td>Decision Tree</td>\n",
       "      <td>0.975</td>\n",
       "      <td>0.715</td>\n",
       "      <td>0.649</td>\n",
       "    </tr>\n",
       "    <tr>\n",
       "      <th>2</th>\n",
       "      <td>Support Vector Machine</td>\n",
       "      <td>0.908</td>\n",
       "      <td>0.796</td>\n",
       "      <td>0.732</td>\n",
       "    </tr>\n",
       "    <tr>\n",
       "      <th>3</th>\n",
       "      <td>Multinomial Naive Bayes Model</td>\n",
       "      <td>0.815</td>\n",
       "      <td>0.793</td>\n",
       "      <td>0.737</td>\n",
       "    </tr>\n",
       "    <tr>\n",
       "      <th>4</th>\n",
       "      <td>Convolutional Neural Network</td>\n",
       "      <td>0.963</td>\n",
       "      <td>0.766</td>\n",
       "      <td>0.706</td>\n",
       "    </tr>\n",
       "  </tbody>\n",
       "</table>\n",
       "</div>"
      ],
      "text/plain": [
       "                           Model  Train Score  Test Score  F1 Score\n",
       "0            Logistic Regression        0.857       0.798     0.742\n",
       "1                  Decision Tree        0.975       0.715     0.649\n",
       "2         Support Vector Machine        0.908       0.796     0.732\n",
       "3  Multinomial Naive Bayes Model        0.815       0.793     0.737\n",
       "4   Convolutional Neural Network        0.963       0.766     0.706"
      ]
     },
     "execution_count": 401,
     "metadata": {},
     "output_type": "execute_result"
    }
   ],
   "source": [
    "model_names = [model[0] for model in model_list]\n",
    "final_scores = {'Model': model_names,\n",
    "               'Train Score': train_scores,\n",
    "               'Test Score': test_scores,\n",
    "               'F1 Score': f1_scores}\n",
    "\n",
    "final_scores = pd.DataFrame(final_scores)\n",
    "final_scores['Train Score'] = final_scores['Train Score'].round(3)\n",
    "final_scores['Test Score'] = final_scores['Test Score'].round(3)\n",
    "final_scores['F1 Score'] = final_scores['F1 Score'].round(3)\n",
    "\n",
    "final_scores"
   ]
  },
  {
   "cell_type": "markdown",
   "metadata": {},
   "source": [
    "Ultimately, the logistic regression does the best in terms of both test and f1 score.\n",
    "\n",
    "This is not surprising in the realm of Data Science. Just because it is conceptually simple to grasp and easy to implement, does not necessarily mean it performs the poorest compared to other algorithms. \n",
    "\n",
    "Then again, the test and f1 values for all the models range around 0.7, so it could be argued that further optimization of each model would, though timely, produce more numerically spread and thus more comparable results.\n",
    "\n",
    "Either way, this is an exploration for Henry to build upon."
   ]
  },
  {
   "cell_type": "markdown",
   "metadata": {},
   "source": [
    "# Sources\n",
    "\n",
    "Abdullah, M. (2020, January 01). Disaster Tweets Solution. Retrieved from https://www.kaggle.com/mohamedabdullah/disaster-tweets-solution\n",
    "\n",
    "Choubey, V. (2020, July 22). Text classification using CNN. Retrieved from https://medium.com/voice-tech-podcast/text-classification-using-cnn-9ade8155dfb9\n",
    "\n",
    "Malik, U. (2019). Python for NLP: Word Embeddings for Deep Learning in Keras. Retrieved from https://stackabuse.com/python-for-nlp-word-embeddings-for-deep-learning-in-keras/\n",
    "\n",
    "Pantola, P. (2018, June 14). Natural Language Processing: Text Data Vectorization. Retrieved from https://medium.com/@paritosh_30025/natural-language-processing-text-data-vectorization-af2520529cf7\n",
    "\n",
    "Wang, S. (2018, April 13). Build a Text Classification Program: An NLP Tutorial. Retrieved from https://www.toptal.com/machine-learning/nlp-tutorial-text-classification"
   ]
  }
 ],
 "metadata": {
  "kernelspec": {
   "display_name": "pdsm",
   "language": "python",
   "name": "pdsm"
  },
  "language_info": {
   "codemirror_mode": {
    "name": "ipython",
    "version": 3
   },
   "file_extension": ".py",
   "mimetype": "text/x-python",
   "name": "python",
   "nbconvert_exporter": "python",
   "pygments_lexer": "ipython3",
   "version": "3.8.5"
  }
 },
 "nbformat": 4,
 "nbformat_minor": 4
}
